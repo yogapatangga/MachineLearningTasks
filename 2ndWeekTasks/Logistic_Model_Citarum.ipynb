{
  "nbformat": 4,
  "nbformat_minor": 0,
  "metadata": {
    "colab": {
      "provenance": [],
      "history_visible": true,
      "authorship_tag": "ABX9TyM0em3WLmwnf3Wng0ssnb+f",
      "include_colab_link": true
    },
    "kernelspec": {
      "name": "python3",
      "display_name": "Python 3"
    },
    "language_info": {
      "name": "python"
    }
  },
  "cells": [
    {
      "cell_type": "markdown",
      "metadata": {
        "id": "view-in-github",
        "colab_type": "text"
      },
      "source": [
        "<a href=\"https://colab.research.google.com/github/yogapatangga/MachineLearningTasks/blob/main/2ndWeekTasks/Logistic_Model_Citarum.ipynb\" target=\"_parent\"><img src=\"https://colab.research.google.com/assets/colab-badge.svg\" alt=\"Open In Colab\"/></a>"
      ]
    },
    {
      "cell_type": "markdown",
      "source": [
        "# Logistic Model (Citarum Water)\n",
        "## Importing the libraries"
      ],
      "metadata": {
        "id": "hDfYyw78ogyN"
      }
    },
    {
      "cell_type": "code",
      "source": [
        "import numpy as np\n",
        "import matplotlib.pyplot as plt\n",
        "import pandas as pd\n",
        "import seaborn as sns"
      ],
      "metadata": {
        "id": "bAhsW68Yx1MU"
      },
      "execution_count": 1,
      "outputs": []
    },
    {
      "cell_type": "markdown",
      "source": [
        "## Importing the Citarum dataset and display the first few rows"
      ],
      "metadata": {
        "id": "SaKYn7Ssp3Tp"
      }
    },
    {
      "cell_type": "code",
      "source": [
        "dataset = pd.read_csv('CitarumWater.csv')\n",
        "print(dataset.head())"
      ],
      "metadata": {
        "colab": {
          "base_uri": "https://localhost:8080/"
        },
        "id": "GPTJMJAVx8-Z",
        "outputId": "64b2e9f9-1fda-44ba-be1c-96b8de4869b0"
      },
      "execution_count": 2,
      "outputs": [
        {
          "output_type": "stream",
          "name": "stdout",
          "text": [
            "   No NamaSungai             TitikPantau       Waktu    pH     Temp   TSS  \\\n",
            "0   1    Citarum             Wangisagara  18/04/2018  7.57  25.55°C  11.0   \n",
            "1   2    Citarum                   Koyod  18/04/2018  7.69  25.55°C  13.0   \n",
            "2   3    Citarum   Setelah IPAL Cisirung  18/04/2018  7.39  25.55°C  15.0   \n",
            "3   4    Citarum                 Nanjung  18/04/2018  7.49  25.55°C  17.0   \n",
            "4   5    Citarum  Outlet Waduk Jatiluhur  18/04/2018  7.17  25.55°C   6.0   \n",
            "\n",
            "     DO   BOD    COD  Nitrat  FecalColiform  Fosfat O2    IP  Class  \n",
            "0  6.11  3.30   6.10    1.08        17000.0   0.043  -  5.12      3  \n",
            "1  6.20  5.31  12.50    1.85        28000.0   0.011  -  5.91      3  \n",
            "2  3.61  7.40  23.50    1.25        90000.0   0.230  -  7.76      3  \n",
            "3  3.17  8.13  27.50    1.21       300000.0   0.057  -  9.61      3  \n",
            "4  6.82  2.89   5.44    1.04         3000.0   0.110  -  2.44      2  \n"
          ]
        }
      ]
    },
    {
      "cell_type": "markdown",
      "source": [
        "## Feature selection"
      ],
      "metadata": {
        "id": "eI6k8yYxyfsZ"
      }
    },
    {
      "cell_type": "code",
      "source": [
        "columns_to_drop = [\"No\", \"NamaSungai\", \"TitikPantau\", \"Waktu\", \"Temp\", \"O2\"]\n",
        "X = dataset.drop(columns=columns_to_drop)  # Features\n",
        "y = dataset[\"Class\"]   # Target"
      ],
      "metadata": {
        "id": "xl5LeFOrykP6"
      },
      "execution_count": 30,
      "outputs": []
    },
    {
      "cell_type": "markdown",
      "source": [
        "## Balancing imbalanced data"
      ],
      "metadata": {
        "id": "UlfYRgwK4KfC"
      }
    },
    {
      "cell_type": "code",
      "source": [
        "from imblearn.over_sampling import SMOTE\n",
        "smote = SMOTE()\n",
        "X_resampled, y_resampled = smote.fit_resample(X, y)"
      ],
      "metadata": {
        "id": "a1k_4XF64Od-"
      },
      "execution_count": 37,
      "outputs": []
    },
    {
      "cell_type": "markdown",
      "source": [
        "- SMOTE (Synthetic Minority Over-sampling Technique) generates synthetic samples for the minority class."
      ],
      "metadata": {
        "id": "iWaz57857tx4"
      }
    },
    {
      "cell_type": "markdown",
      "source": [
        "## Splitting the dataset into the Training set and Test set (70:30)"
      ],
      "metadata": {
        "id": "kulHyhZwr8JE"
      }
    },
    {
      "cell_type": "code",
      "source": [
        "from sklearn.model_selection import train_test_split\n",
        "X_train, X_test, y_train, y_test = train_test_split(X_resampled, y_resampled, test_size=0.3)"
      ],
      "metadata": {
        "id": "gIxWHKuky4cy"
      },
      "execution_count": 38,
      "outputs": []
    },
    {
      "cell_type": "markdown",
      "source": [
        "## Feature scaling"
      ],
      "metadata": {
        "id": "1weELDpMzWik"
      }
    },
    {
      "cell_type": "code",
      "source": [
        "from sklearn.preprocessing import StandardScaler\n",
        "scaler = StandardScaler()\n",
        "X_train = scaler.fit_transform(X_train)\n",
        "X_test = scaler.transform(X_test)"
      ],
      "metadata": {
        "id": "iNOi7mQazX-A"
      },
      "execution_count": 39,
      "outputs": []
    },
    {
      "cell_type": "markdown",
      "source": [
        "## Training the Logistic Regression model on the Training set"
      ],
      "metadata": {
        "id": "8VsxpSKIzocn"
      }
    },
    {
      "cell_type": "code",
      "source": [
        "from sklearn.linear_model import LogisticRegression\n",
        "model = LogisticRegression().fit(X_train, y_train)"
      ],
      "metadata": {
        "id": "8a-6P8vpzsUh"
      },
      "execution_count": 40,
      "outputs": []
    },
    {
      "cell_type": "markdown",
      "source": [
        "## Predicting the Test set results"
      ],
      "metadata": {
        "id": "pjx2FnYB2MuO"
      }
    },
    {
      "cell_type": "code",
      "source": [
        "y_pred = model.predict(X_test)"
      ],
      "metadata": {
        "id": "hqAO-ukB0sSO"
      },
      "execution_count": 41,
      "outputs": []
    },
    {
      "cell_type": "markdown",
      "source": [
        "## Making the Confusion Matrix and print the classification report"
      ],
      "metadata": {
        "id": "AdLy0mVc1WFN"
      }
    },
    {
      "cell_type": "code",
      "source": [
        "from sklearn.metrics import classification_report, confusion_matrix, accuracy_score\n",
        "plt.figure(figsize=(8, 6))\n",
        "sns.heatmap(confusion_matrix(y_test, y_pred), annot=True, fmt='d', cmap='Blues',\n",
        "            xticklabels=np.unique(y), yticklabels=np.unique(y))\n",
        "plt.ylabel('Actual')\n",
        "plt.xlabel('Predicted')\n",
        "plt.title('Confusion Matrix')\n",
        "plt.show()\n",
        "print(\"Classification Report:\")\n",
        "print(classification_report(y_test, y_pred))\n",
        "accuracy = np.mean(y_pred == y_test)\n",
        "print(f\"\\nAccuracy: {accuracy * 100:.2f}%\")"
      ],
      "metadata": {
        "colab": {
          "base_uri": "https://localhost:8080/",
          "height": 807
        },
        "id": "-v6y6gGL1W5p",
        "outputId": "8995c50c-20bc-4c46-e83f-9bfab3dfa230"
      },
      "execution_count": 43,
      "outputs": [
        {
          "output_type": "display_data",
          "data": {
            "text/plain": [
              "<Figure size 800x600 with 2 Axes>"
            ],
            "image/png": "[encoded data removed]"
          },
          "metadata": {}
        },
        {
          "output_type": "stream",
          "name": "stdout",
          "text": [
            "Classification Report:\n",
            "              precision    recall  f1-score   support\n",
            "\n",
            "           1       1.00      1.00      1.00       430\n",
            "           2       1.00      1.00      1.00       452\n",
            "           3       1.00      1.00      1.00       469\n",
            "           4       1.00      1.00      1.00       445\n",
            "\n",
            "    accuracy                           1.00      1796\n",
            "   macro avg       1.00      1.00      1.00      1796\n",
            "weighted avg       1.00      1.00      1.00      1796\n",
            "\n",
            "\n",
            "Accuracy: 99.89%\n"
          ]
        }
      ]
    }
  ]
}